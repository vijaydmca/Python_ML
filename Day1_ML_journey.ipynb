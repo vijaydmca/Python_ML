{
  "nbformat": 4,
  "nbformat_minor": 0,
  "metadata": {
    "colab": {
      "provenance": []
    },
    "kernelspec": {
      "name": "python3",
      "display_name": "Python 3"
    },
    "language_info": {
      "name": "python"
    }
  },
  "cells": [
    {
      "cell_type": "code",
      "execution_count": null,
      "metadata": {
        "colab": {
          "base_uri": "https://localhost:8080/"
        },
        "id": "HpmbKqI7jltH",
        "outputId": "23528903-a377-4d56-a341-a9c8ede65cde"
      },
      "outputs": [
        {
          "output_type": "stream",
          "name": "stdout",
          "text": [
            "hello world\n"
          ]
        }
      ],
      "source": [
        "print(\"hello world\")"
      ]
    },
    {
      "cell_type": "code",
      "source": [
        "ashdkjas"
      ],
      "metadata": {
        "id": "34ZbDQBAxLWX"
      },
      "execution_count": null,
      "outputs": []
    },
    {
      "cell_type": "code",
      "source": [
        "import keyword as kw\n",
        "print (kw.kwlist)"
      ],
      "metadata": {
        "id": "XSVsMsaCK5pd",
        "outputId": "13ecadaa-d39b-4a2d-e3fc-35833177c48e",
        "colab": {
          "base_uri": "https://localhost:8080/"
        }
      },
      "execution_count": null,
      "outputs": [
        {
          "output_type": "stream",
          "name": "stdout",
          "text": [
            "['False', 'None', 'True', 'and', 'as', 'assert', 'async', 'await', 'break', 'class', 'continue', 'def', 'del', 'elif', 'else', 'except', 'finally', 'for', 'from', 'global', 'if', 'import', 'in', 'is', 'lambda', 'nonlocal', 'not', 'or', 'pass', 'raise', 'return', 'try', 'while', 'with', 'yield']\n"
          ]
        }
      ]
    },
    {
      "cell_type": "code",
      "source": [
        "a = 112\n",
        "print(id(a))"
      ],
      "metadata": {
        "id": "4iJGpStYTMET",
        "outputId": "d35908c8-e2e3-493d-b7f6-7a5161d86d1f",
        "colab": {
          "base_uri": "https://localhost:8080/"
        }
      },
      "execution_count": null,
      "outputs": [
        {
          "output_type": "stream",
          "name": "stdout",
          "text": [
            "10754408\n"
          ]
        }
      ]
    },
    {
      "cell_type": "code",
      "source": [
        "b = 1\n",
        "print(id(b))"
      ],
      "metadata": {
        "id": "32VqCf4dTTy9",
        "outputId": "d065dc66-9151-4061-d3ec-ad6bd08110b5",
        "colab": {
          "base_uri": "https://localhost:8080/"
        }
      },
      "execution_count": null,
      "outputs": [
        {
          "output_type": "stream",
          "name": "stdout",
          "text": [
            "10750856\n"
          ]
        }
      ]
    },
    {
      "cell_type": "code",
      "source": [
        "## Dict\n",
        "d = {2:100, 3:200, 4:300, 5:400}\n",
        "val = d.pop(2)\n",
        "print(val)\n",
        "print(d)"
      ],
      "metadata": {
        "id": "bTbXtx3AkkD-",
        "outputId": "5046d985-537a-4280-c02e-7b5eba2d8f98",
        "colab": {
          "base_uri": "https://localhost:8080/"
        }
      },
      "execution_count": 3,
      "outputs": [
        {
          "output_type": "stream",
          "name": "stdout",
          "text": [
            "100\n",
            "{3: 200, 4: 300, 5: 400}\n"
          ]
        }
      ]
    },
    {
      "cell_type": "code",
      "source": [
        "d1 = {2:100, 3:200, 4:300, 5:400}\n",
        "d2 = {6:300, 7:400, 5:500}\n",
        "d1.update(d2)\n",
        "print(d1)\n"
      ],
      "metadata": {
        "id": "YItP1L9wljXU",
        "outputId": "6d811320-cf34-4469-fa86-588c8d5fa904",
        "colab": {
          "base_uri": "https://localhost:8080/"
        }
      },
      "execution_count": 5,
      "outputs": [
        {
          "output_type": "stream",
          "name": "stdout",
          "text": [
            "{2: 100, 3: 200, 4: 300, 5: 500, 6: 300, 7: 400}\n"
          ]
        }
      ]
    },
    {
      "cell_type": "code",
      "source": [
        "\n",
        "#deep copy\n",
        "\n",
        "d1 = {2:100, 3:200, 4:300, 5:400}\n",
        "d2 = d1\n",
        "print(d1)\n",
        "print(d2)\n",
        "print(id(d1))\n",
        "print(id(d2))"
      ],
      "metadata": {
        "id": "yNzjWuhWnsi-",
        "outputId": "93137f0d-a6b7-41be-95cf-d3204e97b57c",
        "colab": {
          "base_uri": "https://localhost:8080/"
        }
      },
      "execution_count": 9,
      "outputs": [
        {
          "output_type": "stream",
          "name": "stdout",
          "text": [
            "{2: 100, 3: 200, 4: 300, 5: 400}\n",
            "{2: 100, 3: 200, 4: 300, 5: 400}\n",
            "132018566897024\n",
            "132018566897024\n"
          ]
        }
      ]
    },
    {
      "cell_type": "code",
      "source": [
        "\n",
        "k = [1,2,3,4]\n",
        "v = [10,20,30,40]\n",
        "d = dict(zip(k,v))\n",
        "print(d)"
      ],
      "metadata": {
        "id": "zNkTvEfYqJz7",
        "outputId": "8a904c0c-3a20-4929-931f-feedbe434110",
        "colab": {
          "base_uri": "https://localhost:8080/"
        }
      },
      "execution_count": 12,
      "outputs": [
        {
          "output_type": "stream",
          "name": "stdout",
          "text": [
            "{1: 10, 2: 20, 3: 30, 4: 40}\n"
          ]
        }
      ]
    },
    {
      "cell_type": "code",
      "source": [
        "from os.path import split\n",
        "s = \"i live in Bangalore Bangalore is beautiful city\"\n",
        "l = s.split(' ')\n",
        "d  = {}\n",
        "for i in l:\n",
        "    if i in d:\n",
        "        d[i] += 1\n",
        "    else:\n",
        "        d[i] = 1\n",
        "print(d)\n",
        "\n",
        "\n",
        "\n"
      ],
      "metadata": {
        "id": "f3rN6rlkqxfV",
        "outputId": "5e336421-1efd-4545-b805-059a6956d84d",
        "colab": {
          "base_uri": "https://localhost:8080/"
        }
      },
      "execution_count": 17,
      "outputs": [
        {
          "output_type": "stream",
          "name": "stdout",
          "text": [
            "{'i': 1, 'live': 1, 'in': 1, 'Bangalore': 2, 'is': 1, 'beautiful': 1, 'city': 1}\n"
          ]
        }
      ]
    }
  ]
}