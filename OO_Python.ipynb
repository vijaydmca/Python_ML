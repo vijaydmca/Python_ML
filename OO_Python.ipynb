{
  "nbformat": 4,
  "nbformat_minor": 0,
  "metadata": {
    "colab": {
      "provenance": []
    },
    "kernelspec": {
      "name": "python3",
      "display_name": "Python 3"
    },
    "language_info": {
      "name": "python"
    }
  },
  "cells": [
    {
      "cell_type": "code",
      "source": [
        "print(\"Hello WOrld\")"
      ],
      "metadata": {
        "colab": {
          "base_uri": "https://localhost:8080/"
        },
        "id": "gQXYQW_Z322F",
        "outputId": "7264a15d-a074-4c3f-dc49-baef98efcc56"
      },
      "execution_count": null,
      "outputs": [
        {
          "output_type": "stream",
          "name": "stdout",
          "text": [
            "Hello WOrld\n"
          ]
        }
      ]
    },
    {
      "cell_type": "code",
      "source": [
        "a=100 #  the following code snippets shows the memory management\n",
        "\n",
        "print(id(a))"
      ],
      "metadata": {
        "colab": {
          "base_uri": "https://localhost:8080/"
        },
        "id": "XexxqE5zDreE",
        "outputId": "b37b7afc-a346-4b21-c124-f096004472b3"
      },
      "execution_count": null,
      "outputs": [
        {
          "output_type": "stream",
          "name": "stdout",
          "text": [
            "10754024\n"
          ]
        }
      ]
    },
    {
      "cell_type": "code",
      "source": [
        "b=100\n",
        "print(id(b))"
      ],
      "metadata": {
        "colab": {
          "base_uri": "https://localhost:8080/"
        },
        "id": "p6t8tBcCD82i",
        "outputId": "66924efa-633e-468f-b702-e1cb8e86fe8d"
      },
      "execution_count": null,
      "outputs": [
        {
          "output_type": "stream",
          "name": "stdout",
          "text": [
            "10754024\n"
          ]
        }
      ]
    },
    {
      "cell_type": "code",
      "source": [
        "c=100\n",
        "print(id(c))"
      ],
      "metadata": {
        "colab": {
          "base_uri": "https://localhost:8080/"
        },
        "id": "VYre3n55EJir",
        "outputId": "1668d49c-4415-4f66-c027-3a7cee0a6e06"
      },
      "execution_count": null,
      "outputs": [
        {
          "output_type": "stream",
          "name": "stdout",
          "text": [
            "10754024\n"
          ]
        }
      ]
    },
    {
      "cell_type": "code",
      "source": [
        "a=500\n",
        "print(id(a))"
      ],
      "metadata": {
        "colab": {
          "base_uri": "https://localhost:8080/"
        },
        "id": "fWNhgRjyGd8r",
        "outputId": "b988c5cc-5e6d-49e9-ac32-6c610974f234"
      },
      "execution_count": null,
      "outputs": [
        {
          "output_type": "stream",
          "name": "stdout",
          "text": [
            "134973056271216\n"
          ]
        }
      ]
    },
    {
      "cell_type": "code",
      "source": [
        "b=a\n",
        "print(id(b))"
      ],
      "metadata": {
        "colab": {
          "base_uri": "https://localhost:8080/"
        },
        "id": "6D3NxskVGlSJ",
        "outputId": "6c23df39-10b7-4b3c-f126-7ffaaf589f97"
      },
      "execution_count": null,
      "outputs": [
        {
          "output_type": "stream",
          "name": "stdout",
          "text": [
            "134973056271216\n"
          ]
        }
      ]
    },
    {
      "cell_type": "code",
      "source": [
        "a=10\n",
        "b=20\n",
        "c=30\n",
        "print(a,b,c)\n"
      ],
      "metadata": {
        "colab": {
          "base_uri": "https://localhost:8080/"
        },
        "id": "xV-BFm5uGum1",
        "outputId": "457bdb8b-68fd-4156-8d34-afe208180ae0"
      },
      "execution_count": null,
      "outputs": [
        {
          "output_type": "stream",
          "name": "stdout",
          "text": [
            "10 20 30\n"
          ]
        }
      ]
    },
    {
      "cell_type": "code",
      "source": [
        "a,b,c = 10,20,30  # variable assignment\n",
        "print(a,b,c)"
      ],
      "metadata": {
        "colab": {
          "base_uri": "https://localhost:8080/"
        },
        "id": "mRgzRqpBG5tL",
        "outputId": "a1d583f7-fad0-4977-83de-f8fa8be50958"
      },
      "execution_count": null,
      "outputs": [
        {
          "output_type": "stream",
          "name": "stdout",
          "text": [
            "10 20 30\n"
          ]
        }
      ]
    },
    {
      "cell_type": "code",
      "source": [
        "a=10\n",
        "b=10\n",
        "c=10\n",
        "print(a,b,c)"
      ],
      "metadata": {
        "colab": {
          "base_uri": "https://localhost:8080/"
        },
        "id": "1JVEBJTcHEVd",
        "outputId": "73381172-d0b3-4e8a-ac55-1796188567cb"
      },
      "execution_count": null,
      "outputs": [
        {
          "output_type": "stream",
          "name": "stdout",
          "text": [
            "10 10 10\n"
          ]
        }
      ]
    },
    {
      "cell_type": "code",
      "source": [
        "a=b=c=10 # varaibale assignment\n",
        "print(a,b,c)"
      ],
      "metadata": {
        "colab": {
          "base_uri": "https://localhost:8080/"
        },
        "id": "TR7rzOiUHJgN",
        "outputId": "3f2e6deb-a910-4a56-c64b-1fd1145809d9"
      },
      "execution_count": null,
      "outputs": [
        {
          "output_type": "stream",
          "name": "stdout",
          "text": [
            "10 10 10\n"
          ]
        }
      ]
    },
    {
      "cell_type": "code",
      "source": [
        "import keyword as kw\n",
        "\n",
        "print(keyword.kwlist)  # it list all the keywords in python\n",
        "print(kw.kwlist)"
      ],
      "metadata": {
        "colab": {
          "base_uri": "https://localhost:8080/"
        },
        "id": "tBfzEw0WHI9t",
        "outputId": "0f117c49-ec29-47ca-b8fc-a13e90d15a40"
      },
      "execution_count": null,
      "outputs": [
        {
          "output_type": "stream",
          "name": "stdout",
          "text": [
            "['False', 'None', 'True', 'and', 'as', 'assert', 'async', 'await', 'break', 'class', 'continue', 'def', 'del', 'elif', 'else', 'except', 'finally', 'for', 'from', 'global', 'if', 'import', 'in', 'is', 'lambda', 'nonlocal', 'not', 'or', 'pass', 'raise', 'return', 'try', 'while', 'with', 'yield']\n"
          ]
        }
      ]
    },
    {
      "cell_type": "code",
      "source": [
        "False=10 # keywords cannot be used as a variable name\n",
        "print(False)"
      ],
      "metadata": {
        "colab": {
          "base_uri": "https://localhost:8080/",
          "height": 106
        },
        "id": "ApQBcdfKIITn",
        "outputId": "80677a41-7993-41d5-c6bc-f02b28402d70"
      },
      "execution_count": null,
      "outputs": [
        {
          "output_type": "error",
          "ename": "SyntaxError",
          "evalue": "cannot assign to False (<ipython-input-25-a9b307c5edad>, line 1)",
          "traceback": [
            "\u001b[0;36m  File \u001b[0;32m\"<ipython-input-25-a9b307c5edad>\"\u001b[0;36m, line \u001b[0;32m1\u001b[0m\n\u001b[0;31m    False=10\u001b[0m\n\u001b[0m    ^\u001b[0m\n\u001b[0;31mSyntaxError\u001b[0m\u001b[0;31m:\u001b[0m cannot assign to False\n"
          ]
        }
      ]
    },
    {
      "cell_type": "code",
      "source": [
        "# multiline comment\n",
        "\n",
        "\"\"\" dkjasdkfaksdjfasdf\n",
        "asdfasdfasdf\n",
        "asdfasdfasdfasd\n",
        "asdfasdfasdfasdf \"\"\"\n",
        "\n",
        "print(\"HI\")"
      ],
      "metadata": {
        "colab": {
          "base_uri": "https://localhost:8080/"
        },
        "id": "axDNVR7zKCes",
        "outputId": "bcb8dd1a-9b34-4687-95c5-baf8a69b3d3c"
      },
      "execution_count": null,
      "outputs": [
        {
          "output_type": "stream",
          "name": "stdout",
          "text": [
            "HI\n"
          ]
        }
      ]
    },
    {
      "cell_type": "code",
      "source": [
        "# python String\n",
        "a= 'Ntt'\n",
        "print(a)\n",
        "b =\"Data\"\n",
        "print(a,b)"
      ],
      "metadata": {
        "colab": {
          "base_uri": "https://localhost:8080/"
        },
        "id": "xq2MZXmYM0jc",
        "outputId": "e473293b-e489-4fcd-be4e-601d6e23ab4b"
      },
      "execution_count": null,
      "outputs": [
        {
          "output_type": "stream",
          "name": "stdout",
          "text": [
            "Ntt\n",
            "Ntt Data\n"
          ]
        }
      ]
    },
    {
      "cell_type": "code",
      "source": [
        "# multi line string\n",
        "\n",
        "st = \"\"\"asdfasdfqwf\n",
        "sdfasdfasdf\n",
        "asdfasdfasdf\n",
        "asdfasdfasdf\"\"\"\n",
        "\n",
        "print(st)"
      ],
      "metadata": {
        "colab": {
          "base_uri": "https://localhost:8080/"
        },
        "id": "ZywDtXtDNJeI",
        "outputId": "01a7d930-8da3-4ec1-b3fa-b799247fe84a"
      },
      "execution_count": null,
      "outputs": [
        {
          "output_type": "stream",
          "name": "stdout",
          "text": [
            "asdfasdfqwf\n",
            "sdfasdfasdf\n",
            "asdfasdfasdf\n",
            "asdfasdfasdf\n"
          ]
        }
      ]
    },
    {
      "cell_type": "code",
      "source": [
        "# Day3\n",
        "# creating a simple list\n",
        "\n",
        "l = [10,20.3,\"NTT\",3+4j]\n",
        "print(l)\n",
        "print(type(l))"
      ],
      "metadata": {
        "colab": {
          "base_uri": "https://localhost:8080/"
        },
        "id": "f-VXcGYzR0Fm",
        "outputId": "1a00c134-8403-4f57-e156-38dbb14616ee"
      },
      "execution_count": null,
      "outputs": [
        {
          "output_type": "stream",
          "name": "stdout",
          "text": [
            "[10, 20.3, 'NTT', (3+4j)]\n",
            "<class 'list'>\n"
          ]
        }
      ]
    },
    {
      "cell_type": "code",
      "source": [
        "# type fn returns the datatype class\n",
        "a = 3+4j\n",
        "print(type(a))"
      ],
      "metadata": {
        "colab": {
          "base_uri": "https://localhost:8080/"
        },
        "id": "ZNdgZKw3SLOJ",
        "outputId": "0e34aa06-74ac-43ee-c9a6-94e84f0f67f0"
      },
      "execution_count": null,
      "outputs": [
        {
          "output_type": "stream",
          "name": "stdout",
          "text": [
            "<class 'complex'>\n"
          ]
        }
      ]
    },
    {
      "cell_type": "code",
      "source": [
        "#isinstance\n",
        "\n",
        "a= 10.0\n",
        "print(isinstance(a,int))"
      ],
      "metadata": {
        "colab": {
          "base_uri": "https://localhost:8080/"
        },
        "id": "o4Ik6QEGTimo",
        "outputId": "44e287ef-2f9b-4f8e-bbf0-7673453dd948"
      },
      "execution_count": null,
      "outputs": [
        {
          "output_type": "stream",
          "name": "stdout",
          "text": [
            "False\n"
          ]
        }
      ]
    },
    {
      "cell_type": "code",
      "source": [
        "# variable annotations\n",
        "name: str = \"NTT\"\n",
        "print(name)\n",
        "print(type(name))\n",
        "\n",
        "print(__annotations__['name'])"
      ],
      "metadata": {
        "colab": {
          "base_uri": "https://localhost:8080/"
        },
        "id": "Qt-ZqeobUHv1",
        "outputId": "e83365b6-62dd-4b8b-e1aa-a59244217151"
      },
      "execution_count": null,
      "outputs": [
        {
          "output_type": "stream",
          "name": "stdout",
          "text": [
            "10\n",
            "<class 'int'>\n",
            "<class 'str'>\n"
          ]
        }
      ]
    },
    {
      "cell_type": "code",
      "source": [
        "aaa=10\n",
        "print(aaa)\n",
        "print(type(aaa))\n",
        "\n",
        "print(__annotations__['aaa'])"
      ],
      "metadata": {
        "colab": {
          "base_uri": "https://localhost:8080/"
        },
        "id": "dUCWAcPKVKNI",
        "outputId": "4112ad18-0ca9-4602-bdeb-e977aa4a7ebf"
      },
      "execution_count": null,
      "outputs": [
        {
          "output_type": "stream",
          "name": "stdout",
          "text": [
            "10\n",
            "<class 'int'>\n",
            "<class 'int'>\n"
          ]
        }
      ]
    },
    {
      "cell_type": "code",
      "source": [
        "aa=10.22\n",
        "print(aa)\n",
        "print(type(aa))\n",
        "\n",
        "print(__annotations__['aa'])"
      ],
      "metadata": {
        "colab": {
          "base_uri": "https://localhost:8080/",
          "height": 211
        },
        "id": "vvRJM-QyV4lp",
        "outputId": "88263b24-3211-4156-f3b7-545c11e15d2e"
      },
      "execution_count": null,
      "outputs": [
        {
          "output_type": "stream",
          "name": "stdout",
          "text": [
            "10.22\n",
            "<class 'float'>\n"
          ]
        },
        {
          "output_type": "error",
          "ename": "KeyError",
          "evalue": "'aa'",
          "traceback": [
            "\u001b[0;31m---------------------------------------------------------------------------\u001b[0m",
            "\u001b[0;31mKeyError\u001b[0m                                  Traceback (most recent call last)",
            "\u001b[0;32m<ipython-input-16-1a198e1297d1>\u001b[0m in \u001b[0;36m<cell line: 0>\u001b[0;34m()\u001b[0m\n\u001b[1;32m      3\u001b[0m \u001b[0mprint\u001b[0m\u001b[0;34m(\u001b[0m\u001b[0mtype\u001b[0m\u001b[0;34m(\u001b[0m\u001b[0maa\u001b[0m\u001b[0;34m)\u001b[0m\u001b[0;34m)\u001b[0m\u001b[0;34m\u001b[0m\u001b[0;34m\u001b[0m\u001b[0m\n\u001b[1;32m      4\u001b[0m \u001b[0;34m\u001b[0m\u001b[0m\n\u001b[0;32m----> 5\u001b[0;31m \u001b[0mprint\u001b[0m\u001b[0;34m(\u001b[0m\u001b[0m__annotations__\u001b[0m\u001b[0;34m[\u001b[0m\u001b[0;34m'aa'\u001b[0m\u001b[0;34m]\u001b[0m\u001b[0;34m)\u001b[0m\u001b[0;34m\u001b[0m\u001b[0;34m\u001b[0m\u001b[0m\n\u001b[0m",
            "\u001b[0;31mKeyError\u001b[0m: 'aa'"
          ]
        }
      ]
    },
    {
      "cell_type": "code",
      "source": [
        "aaa=10\n",
        "print(aaa)\n",
        "print(type(aaa))\n",
        "\n",
        "print(__annotations__['aaa'])"
      ],
      "metadata": {
        "colab": {
          "base_uri": "https://localhost:8080/"
        },
        "id": "qd7chbEDR2a6",
        "outputId": "5d5bba28-e2b9-4561-e47e-817c8a83777e"
      },
      "execution_count": null,
      "outputs": [
        {
          "output_type": "stream",
          "name": "stdout",
          "text": [
            "10\n",
            "<class 'int'>\n",
            "<class 'int'>\n"
          ]
        }
      ]
    },
    {
      "cell_type": "code",
      "source": [
        "aa: int = 10\n",
        "print(aa)\n",
        "\n",
        "print(__annotations__['aa'])\n",
        "print(type(aa))"
      ],
      "metadata": {
        "colab": {
          "base_uri": "https://localhost:8080/"
        },
        "id": "jY8XCpryXkaf",
        "outputId": "1b3e02d1-8a11-4a24-d9b1-e9b44a3475d0"
      },
      "execution_count": null,
      "outputs": [
        {
          "output_type": "stream",
          "name": "stdout",
          "text": [
            "10\n",
            "<class 'int'>\n",
            "<class 'int'>\n"
          ]
        }
      ]
    },
    {
      "cell_type": "code",
      "source": [
        "s = \"Bangalore\"\n",
        "\n",
        "print(s[-9:7:1])"
      ],
      "metadata": {
        "colab": {
          "base_uri": "https://localhost:8080/"
        },
        "id": "EltfFQoS4Irm",
        "outputId": "dbbd9ce5-857b-4759-aa05-c942f1ab2621"
      },
      "execution_count": null,
      "outputs": [
        {
          "output_type": "stream",
          "name": "stdout",
          "text": [
            "Bangalo\n"
          ]
        }
      ]
    },
    {
      "cell_type": "code",
      "source": [
        "s= \"hello, world!\"\n",
        "print(s[-5:2:-2])"
      ],
      "metadata": {
        "colab": {
          "base_uri": "https://localhost:8080/"
        },
        "id": "cSwiA8xh80Fx",
        "outputId": "27318170-056e-4149-93e4-0fcb5d3694e2"
      },
      "execution_count": null,
      "outputs": [
        {
          "output_type": "stream",
          "name": "stdout",
          "text": [
            "o o\n"
          ]
        }
      ]
    },
    {
      "cell_type": "code",
      "source": [
        "s= \"python is fun\"\n",
        "\n",
        "print(s[0:5][::-1])"
      ],
      "metadata": {
        "colab": {
          "base_uri": "https://localhost:8080/"
        },
        "id": "_294-s_79sgN",
        "outputId": "9627d0bf-d052-4d6f-a34a-01ef9af82abb"
      },
      "execution_count": null,
      "outputs": [
        {
          "output_type": "stream",
          "name": "stdout",
          "text": [
            "ohtyp\n"
          ]
        }
      ]
    },
    {
      "cell_type": "code",
      "source": [
        "# simple  If startement\n",
        "\n",
        "if 10>15:\n",
        "\n",
        "  print(\"start of if\")\n",
        "  print(\"10 is greater\")\n",
        "  print(\"end of if\")\n",
        "  print(\"HI\")\n",
        "\n",
        "\n",
        "print(\"end of program\")\n"
      ],
      "metadata": {
        "colab": {
          "base_uri": "https://localhost:8080/"
        },
        "id": "_AO3eNU__FaJ",
        "outputId": "78e8c235-4aa1-4dd6-b780-75c7ee340c5f"
      },
      "execution_count": null,
      "outputs": [
        {
          "output_type": "stream",
          "name": "stdout",
          "text": [
            "end of program\n"
          ]
        }
      ]
    },
    {
      "cell_type": "code",
      "source": [
        "# input function\n",
        "\n",
        "a = input(\"Enter a value\") # input fn reatuns all the values in string format\n",
        "print(a)\n",
        "print(type(a))\n",
        "\n"
      ],
      "metadata": {
        "colab": {
          "base_uri": "https://localhost:8080/"
        },
        "id": "qCObzMmBA01a",
        "outputId": "d2ee64fe-f6a3-4d2f-8d72-69629349ceb7"
      },
      "execution_count": null,
      "outputs": [
        {
          "output_type": "stream",
          "name": "stdout",
          "text": [
            "Enter a value20.33333\n",
            "20.33333\n",
            "<class 'float'>\n"
          ]
        }
      ]
    },
    {
      "cell_type": "code",
      "source": [
        "# input function with type casting\n",
        "\n",
        "a = int(input(\"Enter a value\")) # input fn reatuns all the values in string format\n",
        "print(a)\n",
        "print(type(a))"
      ],
      "metadata": {
        "colab": {
          "base_uri": "https://localhost:8080/"
        },
        "id": "EvCnu0zaB5P_",
        "outputId": "883cad0f-a4c6-4ba4-ac29-206729732b80"
      },
      "execution_count": null,
      "outputs": [
        {
          "output_type": "stream",
          "name": "stdout",
          "text": [
            "Enter a value20\n",
            "20\n",
            "<class 'int'>\n"
          ]
        }
      ]
    },
    {
      "cell_type": "code",
      "source": [
        "# if else statement\n",
        "\n",
        "a = int(input(\"Enter a value\"))\n",
        "b = int(input(\"Enter b value\"))\n",
        "\n",
        "if a>b:\n",
        "  print(\"a is greater\")\n",
        "  print(\"if block\")\n",
        "else:\n",
        "  print(\"b is greater\")\n",
        "  print(\"else block\")"
      ],
      "metadata": {
        "colab": {
          "base_uri": "https://localhost:8080/"
        },
        "id": "GG32aR2kCDhw",
        "outputId": "7d89f7c9-f9d4-4dd4-fcf8-d13620633df0"
      },
      "execution_count": null,
      "outputs": [
        {
          "output_type": "stream",
          "name": "stdout",
          "text": [
            "Enter a value5\n",
            "Enter b value20\n",
            "b is greater\n",
            "else block\n"
          ]
        }
      ]
    },
    {
      "cell_type": "code",
      "source": [
        "# if else ladder\n",
        "\n",
        "s = input(\"enetr a color\")\n",
        "\n",
        "if s == \"red\":\n",
        "  print(\"stop\")\n",
        "elif s == \"yellow\":\n",
        "  print(\"ready\")\n",
        "elif s == \"green\":\n",
        "  print(\"go\")\n",
        "else:\n",
        "  print(\"invalid color\")\n"
      ],
      "metadata": {
        "colab": {
          "base_uri": "https://localhost:8080/"
        },
        "id": "VMQGPG_xC82O",
        "outputId": "39cb6327-05d4-4e8b-d1fd-b1d2067fa168"
      },
      "execution_count": null,
      "outputs": [
        {
          "output_type": "stream",
          "name": "stdout",
          "text": [
            "enetr a colorpink\n",
            "invalid color\n"
          ]
        }
      ]
    },
    {
      "cell_type": "code",
      "source": [
        "text = input(\"enter a string\")  # program to check the palindrome\n",
        "text = text.lower()\n",
        "\n",
        "revtext = text[::-1]\n",
        "\n",
        "if text == revtext:\n",
        "  print(\"Palindrome\")\n",
        "else:\n",
        "  print(\"Not Palindrome\")"
      ],
      "metadata": {
        "colab": {
          "base_uri": "https://localhost:8080/"
        },
        "id": "e1MQ7D5kE3ZC",
        "outputId": "ef84c4b4-4247-4509-fcdf-a712796d1688"
      },
      "execution_count": null,
      "outputs": [
        {
          "output_type": "stream",
          "name": "stdout",
          "text": [
            "enter a stringMalayalam\n",
            "Palindrome\n"
          ]
        }
      ]
    },
    {
      "cell_type": "code",
      "source": [
        "# while loop\n",
        "\n",
        "i=10\n",
        "\n",
        "while i<15 :\n",
        "  print(i)\n",
        "  i=i+1\n",
        "\n",
        "print(\"end of while\")\n"
      ],
      "metadata": {
        "colab": {
          "base_uri": "https://localhost:8080/"
        },
        "id": "vDemr4iPHL7r",
        "outputId": "14f00b43-6b28-45a1-c1aa-2bb156265399"
      },
      "execution_count": null,
      "outputs": [
        {
          "output_type": "stream",
          "name": "stdout",
          "text": [
            "10\n",
            "11\n",
            "12\n",
            "13\n",
            "14\n",
            "end of while\n"
          ]
        }
      ]
    },
    {
      "cell_type": "code",
      "source": [
        "# Multiplication Table\n",
        "\n",
        "num = int(input(\"Enter a number\"))\n",
        "\n",
        "i=1\n",
        "\n",
        "while i<=10:\n",
        "  print(num , \"*\" , i , \"=\" ,i*num)\n",
        "  i=i+1"
      ],
      "metadata": {
        "colab": {
          "base_uri": "https://localhost:8080/"
        },
        "id": "XWuUhRS0IcWp",
        "outputId": "4543d7e8-6577-48b5-9880-163f70e9c814"
      },
      "execution_count": null,
      "outputs": [
        {
          "output_type": "stream",
          "name": "stdout",
          "text": [
            "Enter a number5\n",
            "5 * 1 = 5\n",
            "5 * 2 = 10\n",
            "5 * 3 = 15\n",
            "5 * 4 = 20\n",
            "5 * 5 = 25\n",
            "5 * 6 = 30\n",
            "5 * 7 = 35\n",
            "5 * 8 = 40\n",
            "5 * 9 = 45\n",
            "5 * 10 = 50\n"
          ]
        }
      ]
    },
    {
      "cell_type": "code",
      "source": [
        "# For loop\n",
        "\n",
        "s = \"2025John\"\n",
        "\n",
        "for i in s:\n",
        "  print(i)\n",
        "  print(type(i))"
      ],
      "metadata": {
        "colab": {
          "base_uri": "https://localhost:8080/"
        },
        "id": "Ey1wX3jUJ7mq",
        "outputId": "6ca2a43e-b759-49b4-e2e6-5a4ffb1a11a0"
      },
      "execution_count": null,
      "outputs": [
        {
          "output_type": "stream",
          "name": "stdout",
          "text": [
            "2\n",
            "<class 'str'>\n",
            "0\n",
            "<class 'str'>\n",
            "2\n",
            "<class 'str'>\n",
            "5\n",
            "<class 'str'>\n",
            "J\n",
            "<class 'str'>\n",
            "o\n",
            "<class 'str'>\n",
            "h\n",
            "<class 'str'>\n",
            "n\n",
            "<class 'str'>\n"
          ]
        }
      ]
    },
    {
      "cell_type": "code",
      "source": [
        "#OO_Python\n"
      ],
      "metadata": {
        "id": "RUechNs_Vt8J"
      },
      "execution_count": null,
      "outputs": []
    }
  ]
}