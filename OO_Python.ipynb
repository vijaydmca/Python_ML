{
  "nbformat": 4,
  "nbformat_minor": 0,
  "metadata": {
    "colab": {
      "provenance": []
    },
    "kernelspec": {
      "name": "python3",
      "display_name": "Python 3"
    },
    "language_info": {
      "name": "python"
    }
  },
  "cells": [
    {
      "cell_type": "code",
      "source": [
        "print(\"Hello WOrld\")"
      ],
      "metadata": {
        "colab": {
          "base_uri": "https://localhost:8080/"
        },
        "id": "gQXYQW_Z322F",
        "outputId": "7264a15d-a074-4c3f-dc49-baef98efcc56"
      },
      "execution_count": null,
      "outputs": [
        {
          "output_type": "stream",
          "name": "stdout",
          "text": [
            "Hello WOrld\n"
          ]
        }
      ]
    },
    {
      "cell_type": "code",
      "source": [
        "b=100\n",
        "print(id(b))"
      ],
      "metadata": {
        "colab": {
          "base_uri": "https://localhost:8080/"
        },
        "id": "p6t8tBcCD82i",
        "outputId": "66924efa-633e-468f-b702-e1cb8e86fe8d"
      },
      "execution_count": null,
      "outputs": [
        {
          "output_type": "stream",
          "name": "stdout",
          "text": [
            "10754024\n"
          ]
        }
      ]
    },
    {
      "cell_type": "code",
      "source": [
        "c=100\n",
        "print(id(c))"
      ],
      "metadata": {
        "colab": {
          "base_uri": "https://localhost:8080/"
        },
        "id": "VYre3n55EJir",
        "outputId": "1668d49c-4415-4f66-c027-3a7cee0a6e06"
      },
      "execution_count": null,
      "outputs": [
        {
          "output_type": "stream",
          "name": "stdout",
          "text": [
            "10754024\n"
          ]
        }
      ]
    },
    {
      "cell_type": "code",
      "source": [
        "a=500\n",
        "print(id(a))"
      ],
      "metadata": {
        "colab": {
          "base_uri": "https://localhost:8080/"
        },
        "id": "fWNhgRjyGd8r",
        "outputId": "b988c5cc-5e6d-49e9-ac32-6c610974f234"
      },
      "execution_count": null,
      "outputs": [
        {
          "output_type": "stream",
          "name": "stdout",
          "text": [
            "134973056271216\n"
          ]
        }
      ]
    },
    {
      "cell_type": "code",
      "source": [
        "b=a\n",
        "print(id(b))"
      ],
      "metadata": {
        "colab": {
          "base_uri": "https://localhost:8080/"
        },
        "id": "6D3NxskVGlSJ",
        "outputId": "6c23df39-10b7-4b3c-f126-7ffaaf589f97"
      },
      "execution_count": null,
      "outputs": [
        {
          "output_type": "stream",
          "name": "stdout",
          "text": [
            "134973056271216\n"
          ]
        }
      ]
    },
    {
      "cell_type": "code",
      "source": [
        "a=10\n",
        "b=20\n",
        "c=30\n",
        "print(a,b,c)\n"
      ],
      "metadata": {
        "colab": {
          "base_uri": "https://localhost:8080/"
        },
        "id": "xV-BFm5uGum1",
        "outputId": "457bdb8b-68fd-4156-8d34-afe208180ae0"
      },
      "execution_count": null,
      "outputs": [
        {
          "output_type": "stream",
          "name": "stdout",
          "text": [
            "10 20 30\n"
          ]
        }
      ]
    },
    {
      "cell_type": "code",
      "source": [
        "a,b,c = 10,20,30  # variable assignment\n",
        "print(a,b,c)"
      ],
      "metadata": {
        "colab": {
          "base_uri": "https://localhost:8080/"
        },
        "id": "mRgzRqpBG5tL",
        "outputId": "a1d583f7-fad0-4977-83de-f8fa8be50958"
      },
      "execution_count": null,
      "outputs": [
        {
          "output_type": "stream",
          "name": "stdout",
          "text": [
            "10 20 30\n"
          ]
        }
      ]
    },
    {
      "cell_type": "code",
      "source": [
        "a=10\n",
        "b=10\n",
        "c=10\n",
        "print(a,b,c)"
      ],
      "metadata": {
        "colab": {
          "base_uri": "https://localhost:8080/"
        },
        "id": "1JVEBJTcHEVd",
        "outputId": "73381172-d0b3-4e8a-ac55-1796188567cb"
      },
      "execution_count": null,
      "outputs": [
        {
          "output_type": "stream",
          "name": "stdout",
          "text": [
            "10 10 10\n"
          ]
        }
      ]
    },
    {
      "cell_type": "code",
      "source": [
        "a=b=c=10 # varaibale assignment\n",
        "print(a,b,c)"
      ],
      "metadata": {
        "colab": {
          "base_uri": "https://localhost:8080/"
        },
        "id": "TR7rzOiUHJgN",
        "outputId": "3f2e6deb-a910-4a56-c64b-1fd1145809d9"
      },
      "execution_count": null,
      "outputs": [
        {
          "output_type": "stream",
          "name": "stdout",
          "text": [
            "10 10 10\n"
          ]
        }
      ]
    },
    {
      "cell_type": "code",
      "source": [
        "import keyword as kw\n",
        "\n",
        "print(keyword.kwlist)  # it list all the keywords in python\n",
        "print(kw.kwlist)"
      ],
      "metadata": {
        "colab": {
          "base_uri": "https://localhost:8080/"
        },
        "id": "tBfzEw0WHI9t",
        "outputId": "0f117c49-ec29-47ca-b8fc-a13e90d15a40"
      },
      "execution_count": null,
      "outputs": [
        {
          "output_type": "stream",
          "name": "stdout",
          "text": [
            "['False', 'None', 'True', 'and', 'as', 'assert', 'async', 'await', 'break', 'class', 'continue', 'def', 'del', 'elif', 'else', 'except', 'finally', 'for', 'from', 'global', 'if', 'import', 'in', 'is', 'lambda', 'nonlocal', 'not', 'or', 'pass', 'raise', 'return', 'try', 'while', 'with', 'yield']\n"
          ]
        }
      ]
    },
    {
      "cell_type": "code",
      "source": [
        "False=10 # keywords cannot be used as a variable name\n",
        "print(False)"
      ],
      "metadata": {
        "colab": {
          "base_uri": "https://localhost:8080/",
          "height": 106
        },
        "id": "ApQBcdfKIITn",
        "outputId": "80677a41-7993-41d5-c6bc-f02b28402d70"
      },
      "execution_count": null,
      "outputs": [
        {
          "output_type": "error",
          "ename": "SyntaxError",
          "evalue": "cannot assign to False (<ipython-input-25-a9b307c5edad>, line 1)",
          "traceback": [
            "\u001b[0;36m  File \u001b[0;32m\"<ipython-input-25-a9b307c5edad>\"\u001b[0;36m, line \u001b[0;32m1\u001b[0m\n\u001b[0;31m    False=10\u001b[0m\n\u001b[0m    ^\u001b[0m\n\u001b[0;31mSyntaxError\u001b[0m\u001b[0;31m:\u001b[0m cannot assign to False\n"
          ]
        }
      ]
    },
    {
      "cell_type": "code",
      "source": [
        "# multiline comment\n",
        "\n",
        "\"\"\" dkjasdkfaksdjfasdf\n",
        "asdfasdfasdf\n",
        "asdfasdfasdfasd\n",
        "asdfasdfasdfasdf \"\"\"\n",
        "\n",
        "print(\"HI\")"
      ],
      "metadata": {
        "colab": {
          "base_uri": "https://localhost:8080/"
        },
        "id": "axDNVR7zKCes",
        "outputId": "bcb8dd1a-9b34-4687-95c5-baf8a69b3d3c"
      },
      "execution_count": null,
      "outputs": [
        {
          "output_type": "stream",
          "name": "stdout",
          "text": [
            "HI\n"
          ]
        }
      ]
    },
    {
      "cell_type": "code",
      "source": [
        "# python String\n",
        "a= 'Ntt'\n",
        "print(a)\n",
        "b =\"Data\"\n",
        "print(a,b)"
      ],
      "metadata": {
        "colab": {
          "base_uri": "https://localhost:8080/"
        },
        "id": "xq2MZXmYM0jc",
        "outputId": "e473293b-e489-4fcd-be4e-601d6e23ab4b"
      },
      "execution_count": null,
      "outputs": [
        {
          "output_type": "stream",
          "name": "stdout",
          "text": [
            "Ntt\n",
            "Ntt Data\n"
          ]
        }
      ]
    },
    {
      "cell_type": "code",
      "source": [
        "# multi line string\n",
        "\n",
        "st = \"\"\"asdfasdfqwf\n",
        "sdfasdfasdf\n",
        "asdfasdfasdf\n",
        "asdfasdfasdf\"\"\"\n",
        "\n",
        "print(st)"
      ],
      "metadata": {
        "colab": {
          "base_uri": "https://localhost:8080/"
        },
        "id": "ZywDtXtDNJeI",
        "outputId": "01a7d930-8da3-4ec1-b3fa-b799247fe84a"
      },
      "execution_count": null,
      "outputs": [
        {
          "output_type": "stream",
          "name": "stdout",
          "text": [
            "asdfasdfqwf\n",
            "sdfasdfasdf\n",
            "asdfasdfasdf\n",
            "asdfasdfasdf\n"
          ]
        }
      ]
    },
    {
      "cell_type": "code",
      "source": [
        "# Day3\n",
        "# creating a simple list\n",
        "\n",
        "l = [10,20.3,\"NTT\",3+4j]\n",
        "print(l)\n",
        "print(type(l))"
      ],
      "metadata": {
        "colab": {
          "base_uri": "https://localhost:8080/"
        },
        "id": "f-VXcGYzR0Fm",
        "outputId": "1a00c134-8403-4f57-e156-38dbb14616ee"
      },
      "execution_count": null,
      "outputs": [
        {
          "output_type": "stream",
          "name": "stdout",
          "text": [
            "[10, 20.3, 'NTT', (3+4j)]\n",
            "<class 'list'>\n"
          ]
        }
      ]
    },
    {
      "cell_type": "code",
      "source": [
        "# type fn returns the datatype class\n",
        "a = 3+4j\n",
        "print(type(a))"
      ],
      "metadata": {
        "colab": {
          "base_uri": "https://localhost:8080/"
        },
        "id": "ZNdgZKw3SLOJ",
        "outputId": "0e34aa06-74ac-43ee-c9a6-94e84f0f67f0"
      },
      "execution_count": null,
      "outputs": [
        {
          "output_type": "stream",
          "name": "stdout",
          "text": [
            "<class 'complex'>\n"
          ]
        }
      ]
    },
    {
      "cell_type": "code",
      "source": [
        "#isinstance\n",
        "\n",
        "a= 10.0\n",
        "print(isinstance(a,int))"
      ],
      "metadata": {
        "colab": {
          "base_uri": "https://localhost:8080/"
        },
        "id": "o4Ik6QEGTimo",
        "outputId": "44e287ef-2f9b-4f8e-bbf0-7673453dd948"
      },
      "execution_count": null,
      "outputs": [
        {
          "output_type": "stream",
          "name": "stdout",
          "text": [
            "False\n"
          ]
        }
      ]
    },
    {
      "cell_type": "code",
      "source": [
        "# variable annotations\n",
        "name: str = \"NTT\"\n",
        "print(name)\n",
        "print(type(name))\n",
        "\n",
        "print(__annotations__['name'])"
      ],
      "metadata": {
        "colab": {
          "base_uri": "https://localhost:8080/"
        },
        "id": "Qt-ZqeobUHv1",
        "outputId": "e83365b6-62dd-4b8b-e1aa-a59244217151"
      },
      "execution_count": null,
      "outputs": [
        {
          "output_type": "stream",
          "name": "stdout",
          "text": [
            "10\n",
            "<class 'int'>\n",
            "<class 'str'>\n"
          ]
        }
      ]
    },
    {
      "cell_type": "code",
      "source": [
        "aaa=10\n",
        "print(aaa)\n",
        "print(type(aaa))\n",
        "\n",
        "print(__annotations__['aaa'])"
      ],
      "metadata": {
        "colab": {
          "base_uri": "https://localhost:8080/"
        },
        "id": "dUCWAcPKVKNI",
        "outputId": "4112ad18-0ca9-4602-bdeb-e977aa4a7ebf"
      },
      "execution_count": null,
      "outputs": [
        {
          "output_type": "stream",
          "name": "stdout",
          "text": [
            "10\n",
            "<class 'int'>\n",
            "<class 'int'>\n"
          ]
        }
      ]
    },
    {
      "cell_type": "code",
      "source": [
        "aa=10.22\n",
        "print(aa)\n",
        "print(type(aa))\n",
        "\n",
        "print(__annotations__['aa'])"
      ],
      "metadata": {
        "colab": {
          "base_uri": "https://localhost:8080/",
          "height": 211
        },
        "id": "vvRJM-QyV4lp",
        "outputId": "88263b24-3211-4156-f3b7-545c11e15d2e"
      },
      "execution_count": null,
      "outputs": [
        {
          "output_type": "stream",
          "name": "stdout",
          "text": [
            "10.22\n",
            "<class 'float'>\n"
          ]
        },
        {
          "output_type": "error",
          "ename": "KeyError",
          "evalue": "'aa'",
          "traceback": [
            "\u001b[0;31m---------------------------------------------------------------------------\u001b[0m",
            "\u001b[0;31mKeyError\u001b[0m                                  Traceback (most recent call last)",
            "\u001b[0;32m<ipython-input-16-1a198e1297d1>\u001b[0m in \u001b[0;36m<cell line: 0>\u001b[0;34m()\u001b[0m\n\u001b[1;32m      3\u001b[0m \u001b[0mprint\u001b[0m\u001b[0;34m(\u001b[0m\u001b[0mtype\u001b[0m\u001b[0;34m(\u001b[0m\u001b[0maa\u001b[0m\u001b[0;34m)\u001b[0m\u001b[0;34m)\u001b[0m\u001b[0;34m\u001b[0m\u001b[0;34m\u001b[0m\u001b[0m\n\u001b[1;32m      4\u001b[0m \u001b[0;34m\u001b[0m\u001b[0m\n\u001b[0;32m----> 5\u001b[0;31m \u001b[0mprint\u001b[0m\u001b[0;34m(\u001b[0m\u001b[0m__annotations__\u001b[0m\u001b[0;34m[\u001b[0m\u001b[0;34m'aa'\u001b[0m\u001b[0;34m]\u001b[0m\u001b[0;34m)\u001b[0m\u001b[0;34m\u001b[0m\u001b[0;34m\u001b[0m\u001b[0m\n\u001b[0m",
            "\u001b[0;31mKeyError\u001b[0m: 'aa'"
          ]
        }
      ]
    },
    {
      "cell_type": "code",
      "source": [
        "a=100 #  the following code snippets shows the memory management\n",
        "\n",
        "print(id(a))"
      ],
      "metadata": {
        "colab": {
          "base_uri": "https://localhost:8080/"
        },
        "id": "XexxqE5zDreE",
        "outputId": "b37b7afc-a346-4b21-c124-f096004472b3"
      },
      "execution_count": null,
      "outputs": [
        {
          "output_type": "stream",
          "name": "stdout",
          "text": [
            "10754024\n"
          ]
        }
      ]
    },
    {
      "cell_type": "code",
      "source": [
        "aaa=10\n",
        "print(aaa)\n",
        "print(type(aaa))\n",
        "\n",
        "print(__annotations__['aaa'])"
      ],
      "metadata": {
        "colab": {
          "base_uri": "https://localhost:8080/"
        },
        "id": "qd7chbEDR2a6",
        "outputId": "5d5bba28-e2b9-4561-e47e-817c8a83777e"
      },
      "execution_count": null,
      "outputs": [
        {
          "output_type": "stream",
          "name": "stdout",
          "text": [
            "10\n",
            "<class 'int'>\n",
            "<class 'int'>\n"
          ]
        }
      ]
    },
    {
      "cell_type": "code",
      "source": [
        "aa: int = 10\n",
        "print(aa)\n",
        "\n",
        "print(__annotations__['aa'])\n",
        "print(type(aa))"
      ],
      "metadata": {
        "colab": {
          "base_uri": "https://localhost:8080/"
        },
        "id": "jY8XCpryXkaf",
        "outputId": "1b3e02d1-8a11-4a24-d9b1-e9b44a3475d0"
      },
      "execution_count": null,
      "outputs": [
        {
          "output_type": "stream",
          "name": "stdout",
          "text": [
            "10\n",
            "<class 'int'>\n",
            "<class 'int'>\n"
          ]
        }
      ]
    },
    {
      "cell_type": "code",
      "source": [
        "s = \"Bangalore\"\n",
        "\n",
        "print(s[-9:7:1])"
      ],
      "metadata": {
        "colab": {
          "base_uri": "https://localhost:8080/"
        },
        "id": "EltfFQoS4Irm",
        "outputId": "dbbd9ce5-857b-4759-aa05-c942f1ab2621"
      },
      "execution_count": null,
      "outputs": [
        {
          "output_type": "stream",
          "name": "stdout",
          "text": [
            "Bangalo\n"
          ]
        }
      ]
    },
    {
      "cell_type": "code",
      "source": [
        "s= \"hello, world!\"\n",
        "print(s[-5:2:-2])"
      ],
      "metadata": {
        "colab": {
          "base_uri": "https://localhost:8080/"
        },
        "id": "cSwiA8xh80Fx",
        "outputId": "27318170-056e-4149-93e4-0fcb5d3694e2"
      },
      "execution_count": null,
      "outputs": [
        {
          "output_type": "stream",
          "name": "stdout",
          "text": [
            "o o\n"
          ]
        }
      ]
    },
    {
      "cell_type": "code",
      "source": [
        "s= \"python is fun\"\n",
        "\n",
        "print(s[0:5][::-1])"
      ],
      "metadata": {
        "colab": {
          "base_uri": "https://localhost:8080/"
        },
        "id": "_294-s_79sgN",
        "outputId": "9627d0bf-d052-4d6f-a34a-01ef9af82abb"
      },
      "execution_count": null,
      "outputs": [
        {
          "output_type": "stream",
          "name": "stdout",
          "text": [
            "ohtyp\n"
          ]
        }
      ]
    },
    {
      "cell_type": "code",
      "source": [
        "# simple  If startement\n",
        "\n",
        "if 10>15:\n",
        "\n",
        "  print(\"start of if\")\n",
        "  print(\"10 is greater\")\n",
        "  print(\"end of if\")\n",
        "  print(\"HI\")\n",
        "\n",
        "\n",
        "print(\"end of program\")\n"
      ],
      "metadata": {
        "colab": {
          "base_uri": "https://localhost:8080/"
        },
        "id": "_AO3eNU__FaJ",
        "outputId": "78e8c235-4aa1-4dd6-b780-75c7ee340c5f"
      },
      "execution_count": null,
      "outputs": [
        {
          "output_type": "stream",
          "name": "stdout",
          "text": [
            "end of program\n"
          ]
        }
      ]
    },
    {
      "cell_type": "code",
      "source": [
        "# input function\n",
        "\n",
        "a = input(\"Enter a value\") # input fn reatuns all the values in string format\n",
        "print(a)\n",
        "print(type(a))\n",
        "\n"
      ],
      "metadata": {
        "colab": {
          "base_uri": "https://localhost:8080/"
        },
        "id": "qCObzMmBA01a",
        "outputId": "d2ee64fe-f6a3-4d2f-8d72-69629349ceb7"
      },
      "execution_count": null,
      "outputs": [
        {
          "output_type": "stream",
          "name": "stdout",
          "text": [
            "Enter a value20.33333\n",
            "20.33333\n",
            "<class 'float'>\n"
          ]
        }
      ]
    },
    {
      "cell_type": "code",
      "source": [
        "# input function with type casting\n",
        "\n",
        "a = int(input(\"Enter a value\")) # input fn reatuns all the values in string format\n",
        "print(a)\n",
        "print(type(a))"
      ],
      "metadata": {
        "colab": {
          "base_uri": "https://localhost:8080/"
        },
        "id": "EvCnu0zaB5P_",
        "outputId": "883cad0f-a4c6-4ba4-ac29-206729732b80"
      },
      "execution_count": null,
      "outputs": [
        {
          "output_type": "stream",
          "name": "stdout",
          "text": [
            "Enter a value20\n",
            "20\n",
            "<class 'int'>\n"
          ]
        }
      ]
    },
    {
      "cell_type": "code",
      "source": [
        "# if else statement\n",
        "\n",
        "a = int(input(\"Enter a value\"))\n",
        "b = int(input(\"Enter b value\"))\n",
        "\n",
        "if a>b:\n",
        "  print(\"a is greater\")\n",
        "  print(\"if block\")\n",
        "else:\n",
        "  print(\"b is greater\")\n",
        "  print(\"else block\")"
      ],
      "metadata": {
        "colab": {
          "base_uri": "https://localhost:8080/"
        },
        "id": "GG32aR2kCDhw",
        "outputId": "7d89f7c9-f9d4-4dd4-fcf8-d13620633df0"
      },
      "execution_count": null,
      "outputs": [
        {
          "output_type": "stream",
          "name": "stdout",
          "text": [
            "Enter a value5\n",
            "Enter b value20\n",
            "b is greater\n",
            "else block\n"
          ]
        }
      ]
    },
    {
      "cell_type": "code",
      "source": [
        "# if else ladder\n",
        "\n",
        "s = input(\"enetr a color\")\n",
        "\n",
        "if s == \"red\":\n",
        "  print(\"stop\")\n",
        "elif s == \"yellow\":\n",
        "  print(\"ready\")\n",
        "elif s == \"green\":\n",
        "  print(\"go\")\n",
        "else:\n",
        "  print(\"invalid color\")\n"
      ],
      "metadata": {
        "colab": {
          "base_uri": "https://localhost:8080/"
        },
        "id": "VMQGPG_xC82O",
        "outputId": "39cb6327-05d4-4e8b-d1fd-b1d2067fa168"
      },
      "execution_count": null,
      "outputs": [
        {
          "output_type": "stream",
          "name": "stdout",
          "text": [
            "enetr a colorpink\n",
            "invalid color\n"
          ]
        }
      ]
    },
    {
      "cell_type": "code",
      "source": [
        "text = input(\"enter a string\")  # program to check the palindrome\n",
        "text = text.lower()\n",
        "\n",
        "revtext = text[::-1]\n",
        "\n",
        "if text == revtext:\n",
        "  print(\"Palindrome\")\n",
        "else:\n",
        "  print(\"Not Palindrome\")"
      ],
      "metadata": {
        "colab": {
          "base_uri": "https://localhost:8080/"
        },
        "id": "e1MQ7D5kE3ZC",
        "outputId": "ef84c4b4-4247-4509-fcdf-a712796d1688"
      },
      "execution_count": null,
      "outputs": [
        {
          "output_type": "stream",
          "name": "stdout",
          "text": [
            "enter a stringMalayalam\n",
            "Palindrome\n"
          ]
        }
      ]
    },
    {
      "cell_type": "code",
      "source": [
        "# while loop\n",
        "\n",
        "i=10\n",
        "\n",
        "while i<15 :\n",
        "  print(i)\n",
        "  i=i+1\n",
        "\n",
        "print(\"end of while\")\n"
      ],
      "metadata": {
        "colab": {
          "base_uri": "https://localhost:8080/"
        },
        "id": "vDemr4iPHL7r",
        "outputId": "14f00b43-6b28-45a1-c1aa-2bb156265399"
      },
      "execution_count": null,
      "outputs": [
        {
          "output_type": "stream",
          "name": "stdout",
          "text": [
            "10\n",
            "11\n",
            "12\n",
            "13\n",
            "14\n",
            "end of while\n"
          ]
        }
      ]
    },
    {
      "cell_type": "code",
      "source": [
        "# Multiplication Table\n",
        "\n",
        "num = int(input(\"Enter a number\"))\n",
        "\n",
        "i=1\n",
        "\n",
        "while i<=10:\n",
        "  print(num , \"*\" , i , \"=\" ,i*num)\n",
        "  i=i+1"
      ],
      "metadata": {
        "colab": {
          "base_uri": "https://localhost:8080/"
        },
        "id": "XWuUhRS0IcWp",
        "outputId": "4543d7e8-6577-48b5-9880-163f70e9c814"
      },
      "execution_count": null,
      "outputs": [
        {
          "output_type": "stream",
          "name": "stdout",
          "text": [
            "Enter a number5\n",
            "5 * 1 = 5\n",
            "5 * 2 = 10\n",
            "5 * 3 = 15\n",
            "5 * 4 = 20\n",
            "5 * 5 = 25\n",
            "5 * 6 = 30\n",
            "5 * 7 = 35\n",
            "5 * 8 = 40\n",
            "5 * 9 = 45\n",
            "5 * 10 = 50\n"
          ]
        }
      ]
    },
    {
      "cell_type": "code",
      "source": [
        "# For loop\n",
        "\n",
        "s = \"2025John\"\n",
        "\n",
        "for i in s:\n",
        "  print(i)\n",
        "  print(type(i))"
      ],
      "metadata": {
        "colab": {
          "base_uri": "https://localhost:8080/"
        },
        "id": "Ey1wX3jUJ7mq",
        "outputId": "6ca2a43e-b759-49b4-e2e6-5a4ffb1a11a0"
      },
      "execution_count": null,
      "outputs": [
        {
          "output_type": "stream",
          "name": "stdout",
          "text": [
            "2\n",
            "<class 'str'>\n",
            "0\n",
            "<class 'str'>\n",
            "2\n",
            "<class 'str'>\n",
            "5\n",
            "<class 'str'>\n",
            "J\n",
            "<class 'str'>\n",
            "o\n",
            "<class 'str'>\n",
            "h\n",
            "<class 'str'>\n",
            "n\n",
            "<class 'str'>\n"
          ]
        }
      ]
    },
    {
      "cell_type": "code",
      "source": [
        "#OO_Python\n",
        "class Dog():\n",
        "  def __init__(self):\n",
        "    print(\"Instance initialized\")\n",
        "\n",
        "dog1 = Dog()\n",
        "dog2 = Dog()"
      ],
      "metadata": {
        "id": "RUechNs_Vt8J",
        "outputId": "8c90ab62-3837-4c8b-fdeb-8f5e2f23e985",
        "colab": {
          "base_uri": "https://localhost:8080/"
        }
      },
      "execution_count": null,
      "outputs": [
        {
          "output_type": "stream",
          "name": "stdout",
          "text": [
            "Instance initialized\n",
            "Instance initialized\n"
          ]
        }
      ]
    },
    {
      "cell_type": "code",
      "source": [
        "class Dog():\n",
        "  def __init__():\n",
        "    print(\"Instance initialized\")\n",
        "\n",
        "dog1 = Dog()\n",
        "dog2 = Dog()"
      ],
      "metadata": {
        "id": "uarddSgWuLFE",
        "outputId": "19bc06ac-46a6-4469-e1a4-820fcbde2982",
        "colab": {
          "base_uri": "https://localhost:8080/",
          "height": 193
        }
      },
      "execution_count": null,
      "outputs": [
        {
          "output_type": "error",
          "ename": "TypeError",
          "evalue": "Dog.__init__() takes 0 positional arguments but 1 was given",
          "traceback": [
            "\u001b[0;31m---------------------------------------------------------------------------\u001b[0m",
            "\u001b[0;31mTypeError\u001b[0m                                 Traceback (most recent call last)",
            "\u001b[0;32m<ipython-input-5-04664a0fd24f>\u001b[0m in \u001b[0;36m<cell line: 0>\u001b[0;34m()\u001b[0m\n\u001b[1;32m      3\u001b[0m     \u001b[0mprint\u001b[0m\u001b[0;34m(\u001b[0m\u001b[0;34m\"Instance initialized\"\u001b[0m\u001b[0;34m)\u001b[0m\u001b[0;34m\u001b[0m\u001b[0;34m\u001b[0m\u001b[0m\n\u001b[1;32m      4\u001b[0m \u001b[0;34m\u001b[0m\u001b[0m\n\u001b[0;32m----> 5\u001b[0;31m \u001b[0mdog1\u001b[0m \u001b[0;34m=\u001b[0m \u001b[0mDog\u001b[0m\u001b[0;34m(\u001b[0m\u001b[0;34m)\u001b[0m\u001b[0;34m\u001b[0m\u001b[0;34m\u001b[0m\u001b[0m\n\u001b[0m\u001b[1;32m      6\u001b[0m \u001b[0mdog2\u001b[0m \u001b[0;34m=\u001b[0m \u001b[0mDog\u001b[0m\u001b[0;34m(\u001b[0m\u001b[0;34m)\u001b[0m\u001b[0;34m\u001b[0m\u001b[0;34m\u001b[0m\u001b[0m\n",
            "\u001b[0;31mTypeError\u001b[0m: Dog.__init__() takes 0 positional arguments but 1 was given"
          ]
        }
      ]
    },
    {
      "cell_type": "code",
      "source": [
        "class Dog():\n",
        "  # the standard is to use self so it's not confusing for others reading your\n",
        "  #code\n",
        "  def __init__(variable_for_self_can_have_any_name):\n",
        "    print(\"Instance initialized\")\n",
        "\n",
        "dog1 = Dog()\n",
        "dog2 = Dog()"
      ],
      "metadata": {
        "id": "sNC5RAf2uhmI",
        "outputId": "5a8a1bef-3127-45d6-b249-a6e056584f3b",
        "colab": {
          "base_uri": "https://localhost:8080/"
        }
      },
      "execution_count": null,
      "outputs": [
        {
          "output_type": "stream",
          "name": "stdout",
          "text": [
            "Instance initialized\n",
            "Instance initialized\n"
          ]
        }
      ]
    },
    {
      "cell_type": "code",
      "source": [
        "class Dog():\n",
        "  def __init__(self,kind, age, name, vacinated=False):\n",
        "    self.kind = kind\n",
        "    self.age = age\n",
        "    self.name = name\n",
        "\n",
        "    print(\"Instance initialized\")\n",
        "\n",
        "dog1 = Dog()\n"
      ],
      "metadata": {
        "id": "PomxDpH3vwxz",
        "outputId": "4f632329-b140-47ed-cd8f-20d78abafe95",
        "colab": {
          "base_uri": "https://localhost:8080/",
          "height": 176
        }
      },
      "execution_count": null,
      "outputs": [
        {
          "output_type": "error",
          "ename": "TypeError",
          "evalue": "Dog.__init__() missing 3 required positional arguments: 'kind', 'age', and 'name'",
          "traceback": [
            "\u001b[0;31m---------------------------------------------------------------------------\u001b[0m",
            "\u001b[0;31mTypeError\u001b[0m                                 Traceback (most recent call last)",
            "\u001b[0;32m<ipython-input-8-ee0c7f7865d7>\u001b[0m in \u001b[0;36m<cell line: 0>\u001b[0;34m()\u001b[0m\n\u001b[1;32m      7\u001b[0m     \u001b[0mprint\u001b[0m\u001b[0;34m(\u001b[0m\u001b[0;34m\"Instance initialized\"\u001b[0m\u001b[0;34m)\u001b[0m\u001b[0;34m\u001b[0m\u001b[0;34m\u001b[0m\u001b[0m\n\u001b[1;32m      8\u001b[0m \u001b[0;34m\u001b[0m\u001b[0m\n\u001b[0;32m----> 9\u001b[0;31m \u001b[0mdog1\u001b[0m \u001b[0;34m=\u001b[0m \u001b[0mDog\u001b[0m\u001b[0;34m(\u001b[0m\u001b[0;34m)\u001b[0m\u001b[0;34m\u001b[0m\u001b[0;34m\u001b[0m\u001b[0m\n\u001b[0m",
            "\u001b[0;31mTypeError\u001b[0m: Dog.__init__() missing 3 required positional arguments: 'kind', 'age', and 'name'"
          ]
        }
      ]
    },
    {
      "cell_type": "code",
      "source": [
        "class Dog():\n",
        "  def __init__(self,kind, age, name, vacinated=False):\n",
        "    self.kind = kind\n",
        "    self.age = age\n",
        "    self.name = name\n",
        "    self.vacinated = vacinated\n",
        "\n",
        "    print(\"Instance initialized\")\n",
        "\n",
        "dog1 = Dog('Heart', 40, 'Vijay',True)\n",
        "#dog1.__dict__\n",
        "\n",
        "dog1.name, dog1.age"
      ],
      "metadata": {
        "id": "RAC5b-ENwDGS",
        "outputId": "03c61c6b-1501-4fd9-8e29-984b26fba771",
        "colab": {
          "base_uri": "https://localhost:8080/"
        }
      },
      "execution_count": null,
      "outputs": [
        {
          "output_type": "stream",
          "name": "stdout",
          "text": [
            "Instance initialized\n"
          ]
        },
        {
          "output_type": "execute_result",
          "data": {
            "text/plain": [
              "('Vijay', 40)"
            ]
          },
          "metadata": {},
          "execution_count": 21
        }
      ]
    },
    {
      "cell_type": "code",
      "source": [
        "class Dog():\n",
        "  def __init__(self,kind, age, name, vacinated=False):\n",
        "    self.kind = kind\n",
        "    self.age = age\n",
        "    self.name = name\n",
        "    self.vacinated = vacinated\n",
        "\n",
        "    print(\"Instance initialized\")\n",
        "\n",
        "  def get_details(self):\n",
        "    return self.kind, self.age, self.name, self.vacinated\n",
        "\n",
        "dog1 = Dog(kind='Heart', age=40, name='Vijay', vacinated=True)\n",
        "dog1.get_details()\n"
      ],
      "metadata": {
        "id": "lMc0Ys8oyUTq",
        "outputId": "f768061d-6796-46d5-beae-c370aae52cdb",
        "colab": {
          "base_uri": "https://localhost:8080/"
        }
      },
      "execution_count": null,
      "outputs": [
        {
          "output_type": "stream",
          "name": "stdout",
          "text": [
            "Instance initialized\n"
          ]
        },
        {
          "output_type": "execute_result",
          "data": {
            "text/plain": [
              "('Heart', 40, 'Vijay', True)"
            ]
          },
          "metadata": {},
          "execution_count": 25
        }
      ]
    },
    {
      "cell_type": "code",
      "source": [
        "# Cathing Exception in python\n",
        "try:\n",
        "  user_input = input(\"please enter an inter :\")\n",
        "  result = 100/int(user_input)\n",
        "  print(\"Here is the result:\",result)\n",
        "except ValueError:\n",
        "  print(\"Oops an exception was thrown\")\n",
        "print(\"outside the try/except block\")\n"
      ],
      "metadata": {
        "colab": {
          "base_uri": "https://localhost:8080/"
        },
        "id": "67FmSdew1XsK",
        "outputId": "7c2cd36e-613b-48b8-d536-4de2c13b2e0d"
      },
      "execution_count": 4,
      "outputs": [
        {
          "output_type": "stream",
          "name": "stdout",
          "text": [
            "please enter an inter :vijay\n",
            "Oops an exception was thrown\n",
            "outside the try/except block\n"
          ]
        }
      ]
    },
    {
      "cell_type": "code",
      "source": [
        "try:\n",
        "  user_input = input(\"please enter an inter :\")\n",
        "  result = 100/int(user_input)\n",
        "  print(\"Here is the result:\",result)\n",
        "except (ValueError, ZeroDivisionError):\n",
        "  print(\"Oops an exception was thrown\")\n",
        "print(\"outside the try/except block\")"
      ],
      "metadata": {
        "colab": {
          "base_uri": "https://localhost:8080/"
        },
        "id": "sYe39V_2E7Iy",
        "outputId": "0742baa8-2627-430f-dc65-0bd729d1dacd"
      },
      "execution_count": 5,
      "outputs": [
        {
          "output_type": "stream",
          "name": "stdout",
          "text": [
            "please enter an inter :0\n",
            "Oops an exception was thrown\n",
            "outside the try/except block\n"
          ]
        }
      ]
    },
    {
      "cell_type": "code",
      "source": [
        "try:\n",
        "  user_input = input(\"please enter an inter :\")\n",
        "  result = 100/int(user_input)\n",
        "  print(\"Here is the result:\",result)\n",
        "except ValueError as ve:\n",
        "  print(\"Oops an exception was thrown\")\n",
        "  print(\"Error type\", type(ve))\n",
        "except ZeroDivisionError as ze:\n",
        "  print(\"Oops an exception was thrown\")\n",
        "  print(\"Error type\",type(ze))\n",
        "print(\"outside the try/except block\")"
      ],
      "metadata": {
        "colab": {
          "base_uri": "https://localhost:8080/"
        },
        "id": "haCA6tvQFaGv",
        "outputId": "d6a028b6-f32d-484c-b9c6-56a28f7632b2"
      },
      "execution_count": 9,
      "outputs": [
        {
          "output_type": "stream",
          "name": "stdout",
          "text": [
            "please enter an inter :vijay\n",
            "Oops an exception was thrown\n",
            "Error type <class 'ValueError'>\n",
            "outside the try/except block\n"
          ]
        }
      ]
    },
    {
      "cell_type": "code",
      "source": [
        "issubclass(ValueError, Exception)\n",
        "issubclass(ZeroDivisionError, Exception)"
      ],
      "metadata": {
        "id": "nvm6n86gF8V8",
        "outputId": "eadc99af-dcaf-4a93-9441-257590a89885",
        "colab": {
          "base_uri": "https://localhost:8080/"
        }
      },
      "execution_count": 12,
      "outputs": [
        {
          "output_type": "execute_result",
          "data": {
            "text/plain": [
              "True"
            ]
          },
          "metadata": {},
          "execution_count": 12
        }
      ]
    },
    {
      "cell_type": "code",
      "source": [
        "try:\n",
        "  user_input = input(\"please enter an inter :\")\n",
        "  result = 100/int(user_input)\n",
        "  print(\"Here is the result:\",result)\n",
        "except(Exception):\n",
        "  print(\"Oops an exception was thrown\")\n",
        "print(\"outside the try/except block\")"
      ],
      "metadata": {
        "id": "x41AzNpqGaeZ",
        "outputId": "319a0e0e-88c2-47b7-e0b6-654e74cdab80",
        "colab": {
          "base_uri": "https://localhost:8080/"
        }
      },
      "execution_count": 15,
      "outputs": [
        {
          "output_type": "stream",
          "name": "stdout",
          "text": [
            "please enter an inter :5\n",
            "Here is the result: 20.0\n",
            "outside the try/except block\n"
          ]
        }
      ]
    },
    {
      "cell_type": "code",
      "source": [
        "# Python Modules\n",
        "import math\n",
        "print(\"pi\", math.pi)"
      ],
      "metadata": {
        "id": "LTbbI4SKaM4A",
        "outputId": "c359f14f-524f-400e-88a3-c58fc01b2056",
        "colab": {
          "base_uri": "https://localhost:8080/"
        }
      },
      "execution_count": 17,
      "outputs": [
        {
          "output_type": "stream",
          "name": "stdout",
          "text": [
            "pi 3.141592653589793\n"
          ]
        }
      ]
    },
    {
      "cell_type": "code",
      "source": [
        "import os\n",
        "print(os.getcwd())"
      ],
      "metadata": {
        "id": "S5dV3-peao39",
        "outputId": "a2648d52-f5ac-4327-e0a8-eeda909fa5e2",
        "colab": {
          "base_uri": "https://localhost:8080/"
        }
      },
      "execution_count": 19,
      "outputs": [
        {
          "output_type": "stream",
          "name": "stdout",
          "text": [
            "/content\n"
          ]
        }
      ]
    },
    {
      "cell_type": "code",
      "source": [
        "from os import path\n",
        "path.isdir('cwd')"
      ],
      "metadata": {
        "id": "elmvPDLNa6EU",
        "outputId": "5e39a4c0-2c36-43d5-a2bc-b46db4c48a4b",
        "colab": {
          "base_uri": "https://localhost:8080/"
        }
      },
      "execution_count": 23,
      "outputs": [
        {
          "output_type": "execute_result",
          "data": {
            "text/plain": [
              "False"
            ]
          },
          "metadata": {},
          "execution_count": 23
        }
      ]
    },
    {
      "cell_type": "code",
      "source": [
        "import pandas as pd\n",
        "data = [['lex',54], ['leela',25],['alex',28]]\n",
        "df = pd.DataFrame(data, columns=['Name','Age'])\n",
        "df"
      ],
      "metadata": {
        "id": "PVmhThdocn_A",
        "outputId": "fc172737-4a39-4241-eaf8-fee0c7bec06e",
        "colab": {
          "base_uri": "https://localhost:8080/",
          "height": 143
        }
      },
      "execution_count": 24,
      "outputs": [
        {
          "output_type": "execute_result",
          "data": {
            "text/plain": [
              "    Name  Age\n",
              "0    lex   54\n",
              "1  leela   25\n",
              "2   alex   28"
            ],
            "text/html": [
              "\n",
              "  <div id=\"df-b06d458a-58d0-4be6-826a-66e355877fea\" class=\"colab-df-container\">\n",
              "    <div>\n",
              "<style scoped>\n",
              "    .dataframe tbody tr th:only-of-type {\n",
              "        vertical-align: middle;\n",
              "    }\n",
              "\n",
              "    .dataframe tbody tr th {\n",
              "        vertical-align: top;\n",
              "    }\n",
              "\n",
              "    .dataframe thead th {\n",
              "        text-align: right;\n",
              "    }\n",
              "</style>\n",
              "<table border=\"1\" class=\"dataframe\">\n",
              "  <thead>\n",
              "    <tr style=\"text-align: right;\">\n",
              "      <th></th>\n",
              "      <th>Name</th>\n",
              "      <th>Age</th>\n",
              "    </tr>\n",
              "  </thead>\n",
              "  <tbody>\n",
              "    <tr>\n",
              "      <th>0</th>\n",
              "      <td>lex</td>\n",
              "      <td>54</td>\n",
              "    </tr>\n",
              "    <tr>\n",
              "      <th>1</th>\n",
              "      <td>leela</td>\n",
              "      <td>25</td>\n",
              "    </tr>\n",
              "    <tr>\n",
              "      <th>2</th>\n",
              "      <td>alex</td>\n",
              "      <td>28</td>\n",
              "    </tr>\n",
              "  </tbody>\n",
              "</table>\n",
              "</div>\n",
              "    <div class=\"colab-df-buttons\">\n",
              "\n",
              "  <div class=\"colab-df-container\">\n",
              "    <button class=\"colab-df-convert\" onclick=\"convertToInteractive('df-b06d458a-58d0-4be6-826a-66e355877fea')\"\n",
              "            title=\"Convert this dataframe to an interactive table.\"\n",
              "            style=\"display:none;\">\n",
              "\n",
              "  <svg xmlns=\"http://www.w3.org/2000/svg\" height=\"24px\" viewBox=\"0 -960 960 960\">\n",
              "    <path d=\"M120-120v-720h720v720H120Zm60-500h600v-160H180v160Zm220 220h160v-160H400v160Zm0 220h160v-160H400v160ZM180-400h160v-160H180v160Zm440 0h160v-160H620v160ZM180-180h160v-160H180v160Zm440 0h160v-160H620v160Z\"/>\n",
              "  </svg>\n",
              "    </button>\n",
              "\n",
              "  <style>\n",
              "    .colab-df-container {\n",
              "      display:flex;\n",
              "      gap: 12px;\n",
              "    }\n",
              "\n",
              "    .colab-df-convert {\n",
              "      background-color: #E8F0FE;\n",
              "      border: none;\n",
              "      border-radius: 50%;\n",
              "      cursor: pointer;\n",
              "      display: none;\n",
              "      fill: #1967D2;\n",
              "      height: 32px;\n",
              "      padding: 0 0 0 0;\n",
              "      width: 32px;\n",
              "    }\n",
              "\n",
              "    .colab-df-convert:hover {\n",
              "      background-color: #E2EBFA;\n",
              "      box-shadow: 0px 1px 2px rgba(60, 64, 67, 0.3), 0px 1px 3px 1px rgba(60, 64, 67, 0.15);\n",
              "      fill: #174EA6;\n",
              "    }\n",
              "\n",
              "    .colab-df-buttons div {\n",
              "      margin-bottom: 4px;\n",
              "    }\n",
              "\n",
              "    [theme=dark] .colab-df-convert {\n",
              "      background-color: #3B4455;\n",
              "      fill: #D2E3FC;\n",
              "    }\n",
              "\n",
              "    [theme=dark] .colab-df-convert:hover {\n",
              "      background-color: #434B5C;\n",
              "      box-shadow: 0px 1px 3px 1px rgba(0, 0, 0, 0.15);\n",
              "      filter: drop-shadow(0px 1px 2px rgba(0, 0, 0, 0.3));\n",
              "      fill: #FFFFFF;\n",
              "    }\n",
              "  </style>\n",
              "\n",
              "    <script>\n",
              "      const buttonEl =\n",
              "        document.querySelector('#df-b06d458a-58d0-4be6-826a-66e355877fea button.colab-df-convert');\n",
              "      buttonEl.style.display =\n",
              "        google.colab.kernel.accessAllowed ? 'block' : 'none';\n",
              "\n",
              "      async function convertToInteractive(key) {\n",
              "        const element = document.querySelector('#df-b06d458a-58d0-4be6-826a-66e355877fea');\n",
              "        const dataTable =\n",
              "          await google.colab.kernel.invokeFunction('convertToInteractive',\n",
              "                                                    [key], {});\n",
              "        if (!dataTable) return;\n",
              "\n",
              "        const docLinkHtml = 'Like what you see? Visit the ' +\n",
              "          '<a target=\"_blank\" href=https://colab.research.google.com/notebooks/data_table.ipynb>data table notebook</a>'\n",
              "          + ' to learn more about interactive tables.';\n",
              "        element.innerHTML = '';\n",
              "        dataTable['output_type'] = 'display_data';\n",
              "        await google.colab.output.renderOutput(dataTable, element);\n",
              "        const docLink = document.createElement('div');\n",
              "        docLink.innerHTML = docLinkHtml;\n",
              "        element.appendChild(docLink);\n",
              "      }\n",
              "    </script>\n",
              "  </div>\n",
              "\n",
              "\n",
              "    <div id=\"df-2b2b4fa0-39b6-4ae5-8713-e4bfc6a1c13e\">\n",
              "      <button class=\"colab-df-quickchart\" onclick=\"quickchart('df-2b2b4fa0-39b6-4ae5-8713-e4bfc6a1c13e')\"\n",
              "                title=\"Suggest charts\"\n",
              "                style=\"display:none;\">\n",
              "\n",
              "<svg xmlns=\"http://www.w3.org/2000/svg\" height=\"24px\"viewBox=\"0 0 24 24\"\n",
              "     width=\"24px\">\n",
              "    <g>\n",
              "        <path d=\"M19 3H5c-1.1 0-2 .9-2 2v14c0 1.1.9 2 2 2h14c1.1 0 2-.9 2-2V5c0-1.1-.9-2-2-2zM9 17H7v-7h2v7zm4 0h-2V7h2v10zm4 0h-2v-4h2v4z\"/>\n",
              "    </g>\n",
              "</svg>\n",
              "      </button>\n",
              "\n",
              "<style>\n",
              "  .colab-df-quickchart {\n",
              "      --bg-color: #E8F0FE;\n",
              "      --fill-color: #1967D2;\n",
              "      --hover-bg-color: #E2EBFA;\n",
              "      --hover-fill-color: #174EA6;\n",
              "      --disabled-fill-color: #AAA;\n",
              "      --disabled-bg-color: #DDD;\n",
              "  }\n",
              "\n",
              "  [theme=dark] .colab-df-quickchart {\n",
              "      --bg-color: #3B4455;\n",
              "      --fill-color: #D2E3FC;\n",
              "      --hover-bg-color: #434B5C;\n",
              "      --hover-fill-color: #FFFFFF;\n",
              "      --disabled-bg-color: #3B4455;\n",
              "      --disabled-fill-color: #666;\n",
              "  }\n",
              "\n",
              "  .colab-df-quickchart {\n",
              "    background-color: var(--bg-color);\n",
              "    border: none;\n",
              "    border-radius: 50%;\n",
              "    cursor: pointer;\n",
              "    display: none;\n",
              "    fill: var(--fill-color);\n",
              "    height: 32px;\n",
              "    padding: 0;\n",
              "    width: 32px;\n",
              "  }\n",
              "\n",
              "  .colab-df-quickchart:hover {\n",
              "    background-color: var(--hover-bg-color);\n",
              "    box-shadow: 0 1px 2px rgba(60, 64, 67, 0.3), 0 1px 3px 1px rgba(60, 64, 67, 0.15);\n",
              "    fill: var(--button-hover-fill-color);\n",
              "  }\n",
              "\n",
              "  .colab-df-quickchart-complete:disabled,\n",
              "  .colab-df-quickchart-complete:disabled:hover {\n",
              "    background-color: var(--disabled-bg-color);\n",
              "    fill: var(--disabled-fill-color);\n",
              "    box-shadow: none;\n",
              "  }\n",
              "\n",
              "  .colab-df-spinner {\n",
              "    border: 2px solid var(--fill-color);\n",
              "    border-color: transparent;\n",
              "    border-bottom-color: var(--fill-color);\n",
              "    animation:\n",
              "      spin 1s steps(1) infinite;\n",
              "  }\n",
              "\n",
              "  @keyframes spin {\n",
              "    0% {\n",
              "      border-color: transparent;\n",
              "      border-bottom-color: var(--fill-color);\n",
              "      border-left-color: var(--fill-color);\n",
              "    }\n",
              "    20% {\n",
              "      border-color: transparent;\n",
              "      border-left-color: var(--fill-color);\n",
              "      border-top-color: var(--fill-color);\n",
              "    }\n",
              "    30% {\n",
              "      border-color: transparent;\n",
              "      border-left-color: var(--fill-color);\n",
              "      border-top-color: var(--fill-color);\n",
              "      border-right-color: var(--fill-color);\n",
              "    }\n",
              "    40% {\n",
              "      border-color: transparent;\n",
              "      border-right-color: var(--fill-color);\n",
              "      border-top-color: var(--fill-color);\n",
              "    }\n",
              "    60% {\n",
              "      border-color: transparent;\n",
              "      border-right-color: var(--fill-color);\n",
              "    }\n",
              "    80% {\n",
              "      border-color: transparent;\n",
              "      border-right-color: var(--fill-color);\n",
              "      border-bottom-color: var(--fill-color);\n",
              "    }\n",
              "    90% {\n",
              "      border-color: transparent;\n",
              "      border-bottom-color: var(--fill-color);\n",
              "    }\n",
              "  }\n",
              "</style>\n",
              "\n",
              "      <script>\n",
              "        async function quickchart(key) {\n",
              "          const quickchartButtonEl =\n",
              "            document.querySelector('#' + key + ' button');\n",
              "          quickchartButtonEl.disabled = true;  // To prevent multiple clicks.\n",
              "          quickchartButtonEl.classList.add('colab-df-spinner');\n",
              "          try {\n",
              "            const charts = await google.colab.kernel.invokeFunction(\n",
              "                'suggestCharts', [key], {});\n",
              "          } catch (error) {\n",
              "            console.error('Error during call to suggestCharts:', error);\n",
              "          }\n",
              "          quickchartButtonEl.classList.remove('colab-df-spinner');\n",
              "          quickchartButtonEl.classList.add('colab-df-quickchart-complete');\n",
              "        }\n",
              "        (() => {\n",
              "          let quickchartButtonEl =\n",
              "            document.querySelector('#df-2b2b4fa0-39b6-4ae5-8713-e4bfc6a1c13e button');\n",
              "          quickchartButtonEl.style.display =\n",
              "            google.colab.kernel.accessAllowed ? 'block' : 'none';\n",
              "        })();\n",
              "      </script>\n",
              "    </div>\n",
              "\n",
              "  <div id=\"id_c7d01032-5022-4814-bf5b-7f8750836754\">\n",
              "    <style>\n",
              "      .colab-df-generate {\n",
              "        background-color: #E8F0FE;\n",
              "        border: none;\n",
              "        border-radius: 50%;\n",
              "        cursor: pointer;\n",
              "        display: none;\n",
              "        fill: #1967D2;\n",
              "        height: 32px;\n",
              "        padding: 0 0 0 0;\n",
              "        width: 32px;\n",
              "      }\n",
              "\n",
              "      .colab-df-generate:hover {\n",
              "        background-color: #E2EBFA;\n",
              "        box-shadow: 0px 1px 2px rgba(60, 64, 67, 0.3), 0px 1px 3px 1px rgba(60, 64, 67, 0.15);\n",
              "        fill: #174EA6;\n",
              "      }\n",
              "\n",
              "      [theme=dark] .colab-df-generate {\n",
              "        background-color: #3B4455;\n",
              "        fill: #D2E3FC;\n",
              "      }\n",
              "\n",
              "      [theme=dark] .colab-df-generate:hover {\n",
              "        background-color: #434B5C;\n",
              "        box-shadow: 0px 1px 3px 1px rgba(0, 0, 0, 0.15);\n",
              "        filter: drop-shadow(0px 1px 2px rgba(0, 0, 0, 0.3));\n",
              "        fill: #FFFFFF;\n",
              "      }\n",
              "    </style>\n",
              "    <button class=\"colab-df-generate\" onclick=\"generateWithVariable('df')\"\n",
              "            title=\"Generate code using this dataframe.\"\n",
              "            style=\"display:none;\">\n",
              "\n",
              "  <svg xmlns=\"http://www.w3.org/2000/svg\" height=\"24px\"viewBox=\"0 0 24 24\"\n",
              "       width=\"24px\">\n",
              "    <path d=\"M7,19H8.4L18.45,9,17,7.55,7,17.6ZM5,21V16.75L18.45,3.32a2,2,0,0,1,2.83,0l1.4,1.43a1.91,1.91,0,0,1,.58,1.4,1.91,1.91,0,0,1-.58,1.4L9.25,21ZM18.45,9,17,7.55Zm-12,3A5.31,5.31,0,0,0,4.9,8.1,5.31,5.31,0,0,0,1,6.5,5.31,5.31,0,0,0,4.9,4.9,5.31,5.31,0,0,0,6.5,1,5.31,5.31,0,0,0,8.1,4.9,5.31,5.31,0,0,0,12,6.5,5.46,5.46,0,0,0,6.5,12Z\"/>\n",
              "  </svg>\n",
              "    </button>\n",
              "    <script>\n",
              "      (() => {\n",
              "      const buttonEl =\n",
              "        document.querySelector('#id_c7d01032-5022-4814-bf5b-7f8750836754 button.colab-df-generate');\n",
              "      buttonEl.style.display =\n",
              "        google.colab.kernel.accessAllowed ? 'block' : 'none';\n",
              "\n",
              "      buttonEl.onclick = () => {\n",
              "        google.colab.notebook.generateWithVariable('df');\n",
              "      }\n",
              "      })();\n",
              "    </script>\n",
              "  </div>\n",
              "\n",
              "    </div>\n",
              "  </div>\n"
            ],
            "application/vnd.google.colaboratory.intrinsic+json": {
              "type": "dataframe",
              "variable_name": "df",
              "summary": "{\n  \"name\": \"df\",\n  \"rows\": 3,\n  \"fields\": [\n    {\n      \"column\": \"Name\",\n      \"properties\": {\n        \"dtype\": \"string\",\n        \"num_unique_values\": 3,\n        \"samples\": [\n          \"lex\",\n          \"leela\",\n          \"alex\"\n        ],\n        \"semantic_type\": \"\",\n        \"description\": \"\"\n      }\n    },\n    {\n      \"column\": \"Age\",\n      \"properties\": {\n        \"dtype\": \"number\",\n        \"std\": 15,\n        \"min\": 25,\n        \"max\": 54,\n        \"num_unique_values\": 3,\n        \"samples\": [\n          54,\n          25,\n          28\n        ],\n        \"semantic_type\": \"\",\n        \"description\": \"\"\n      }\n    }\n  ]\n}"
            }
          },
          "metadata": {},
          "execution_count": 24
        }
      ]
    }
  ]
}